{
 "cells": [
  {
   "cell_type": "code",
   "execution_count": 302,
   "metadata": {},
   "outputs": [],
   "source": [
    "# -*- coding: utf-8 -*-\n",
    "import csv\n",
    "from StringIO import StringIO\n",
    "from collections import namedtuple\n",
    "import random\n",
    "import sys\n",
    "reload(sys)\n",
    "sys.setdefaultencoding('UTF8')\n",
    "\n",
    "\n",
    "filePath=\"daily_clickStreamData.csv\"\n",
    "dailyData = sc.textFile(filePath)\n"
   ]
  },
  {
   "cell_type": "code",
   "execution_count": 303,
   "metadata": {},
   "outputs": [],
   "source": [
    "def parse(row):\n",
    "    row = [s.encode('utf-8') for s in StringIO(row)]\n",
    "    reader = csv.reader(row)\n",
    "    row = reader.next()\n",
    "    return DailyClickData(*row)\n",
    "def conv(x):\n",
    "    x = [s.encode('utf-8') for s in StringIO(x)]\n",
    "    for a in x:\n",
    "        a = a.replace('İ', 'I')\n",
    "        a = a.replace('Ş', 's')\n",
    "        a = a.replace('Ç', 'C')\n",
    "        a = a.replace('Ü', 'U')\n",
    "        a = a.replace('Ö', 'O')\n",
    "        a = a.replace('ş', 's')\n",
    "        a = a.replace('ğ', 'g')\n",
    "        a = a.replace('ı', 'i')\n",
    "        a = a.replace('ö', 'o')\n",
    "        a = a.replace('ü', 'u')\n",
    "        a = a.replace('ç', 'c')\n",
    "    return str(a).lower()"
   ]
  },
  {
   "cell_type": "code",
   "execution_count": 304,
   "metadata": {},
   "outputs": [],
   "source": [
    "header = dailyData.first()\n",
    "dataWoHeader = dailyData.filter(lambda x : x<>header)\n",
    "fields = header.replace(\" \",\"_\").replace(\"/\",\"_\").split(\",\")\n",
    "# we give name every column\n",
    "\n",
    "DailyClickData = namedtuple('DailyClickData',fields, verbose=True ) \n",
    "daily_click_data = dataWoHeader.map(parse)"
   ]
  },
  {
   "cell_type": "code",
   "execution_count": 305,
   "metadata": {},
   "outputs": [
    {
     "data": {
      "text/plain": [
       "[('ankara', '1'), ('bonn', '1'), ('bolu', '1'), ('van', '1')]"
      ]
     },
     "execution_count": 305,
     "metadata": {},
     "output_type": "execute_result"
    }
   ],
   "source": [
    "#for limitted time.\n",
    "citys_of_the_HURRIYET_dailyClickStream = daily_click_data.map( lambda x : (x.city,'1') )\n",
    "citys_of_the_HURRIYET_dailyClickStream.take(4)"
   ]
  },
  {
   "cell_type": "code",
   "execution_count": 306,
   "metadata": {},
   "outputs": [
    {
     "data": {
      "text/plain": [
       "[('adana', u'37,35.321333'),\n",
       " ('adiyaman', u'37.764751,38.278561'),\n",
       " ('afyonkarahisar', u'38.750714,30.556692'),\n",
       " ('agri', u'39.626922,43021596')]"
      ]
     },
     "execution_count": 306,
     "metadata": {},
     "output_type": "execute_result"
    }
   ],
   "source": [
    "#in this file we have cities location with names\n",
    "filePath_city_locations_in_turkey = \"citys.csv\"\n",
    "city_locations_in_turkey = sc.textFile(filePath_city_locations_in_turkey)\n",
    "city_locations_in_turkey = city_locations_in_turkey.map(lambda x : x.split(\";\"))\n",
    "city_locations_in_turkey = city_locations_in_turkey.map(lambda x : ( conv(x[0]), ( x[1].replace(\",\",\".\") +\",\" +x[2].replace(\",\",\".\") ) ) ) \n",
    "city_locations_in_turkey.take(4)"
   ]
  },
  {
   "cell_type": "code",
   "execution_count": 311,
   "metadata": {},
   "outputs": [],
   "source": [
    "#The coordinates we have are real(coordinates of the citys). so we changed the data to distribute a little bit.\n",
    "def giveRndCLa(value):\n",
    "    number = float (value.split(\",\")[0])\n",
    "    rndNumber = number + (0.03*random.randint(0,9)) + (0.0001*random.randint(0,9)) + (0.001*random.randint(0,9) )\n",
    "    return rndNumber\n",
    "def giveRndCLo(value):\n",
    "    number = float (value.split(\",\")[1])\n",
    "    rndNumber = number + (0.03*random.randint(0,9)) + (0.0001*random.randint(0,9)) + (0.001*random.randint(0,9) )\n",
    "    return rndNumber\n"
   ]
  },
  {
   "cell_type": "code",
   "execution_count": 312,
   "metadata": {},
   "outputs": [
    {
     "data": {
      "text/plain": [
       "[('zonguldak', (u'41.456409,31.798731', '1')),\n",
       " ('zonguldak', (u'41.456409,31.798731', '1')),\n",
       " ('zonguldak', (u'41.456409,31.798731', '1')),\n",
       " ('zonguldak', (u'41.456409,31.798731', '1')),\n",
       " ('zonguldak', (u'41.456409,31.798731', '1'))]"
      ]
     },
     "execution_count": 312,
     "metadata": {},
     "output_type": "execute_result"
    }
   ],
   "source": [
    "city_trend = city_locations_in_turkey.leftOuterJoin(citys_of_the_HURRIYET_dailyClickStream)\n",
    "city_trend.take(5)"
   ]
  },
  {
   "cell_type": "code",
   "execution_count": 313,
   "metadata": {},
   "outputs": [],
   "source": [
    "lon = list (city_trend.map(lambda x :  giveRndCLa(x[1][0]) ).collect())\n",
    "lag = list (city_trend.map(lambda x :  giveRndCLo(x[1][0]) ).collect())"
   ]
  },
  {
   "cell_type": "code",
   "execution_count": 314,
   "metadata": {},
   "outputs": [],
   "source": [
    "import gmplot\n",
    "\n",
    "#zoom coordinate\n",
    "gmap = gmplot.GoogleMapPlotter(39.92077,32.85411, 6)\n",
    "\n",
    "# Overlay our datapoints onto the map\n",
    "for i in range(0,5):\n",
    "    gmap.heatmap(lon, lag)\n",
    "# Generate the heatmap into an HTML file\n",
    "gmap.draw(\"my_heatmap.html\")"
   ]
  },
  {
   "cell_type": "code",
   "execution_count": null,
   "metadata": {},
   "outputs": [],
   "source": []
  },
  {
   "cell_type": "code",
   "execution_count": null,
   "metadata": {},
   "outputs": [],
   "source": []
  }
 ],
 "metadata": {
  "kernelspec": {
   "display_name": "Python 2",
   "language": "python",
   "name": "python2"
  },
  "language_info": {
   "codemirror_mode": {
    "name": "ipython",
    "version": 2
   },
   "file_extension": ".py",
   "mimetype": "text/x-python",
   "name": "python",
   "nbconvert_exporter": "python",
   "pygments_lexer": "ipython2",
   "version": "2.7.15"
  }
 },
 "nbformat": 4,
 "nbformat_minor": 2
}
