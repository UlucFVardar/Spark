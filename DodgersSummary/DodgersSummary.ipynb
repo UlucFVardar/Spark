{
 "cells": [
  {
   "cell_type": "code",
   "execution_count": 28,
   "metadata": {},
   "outputs": [],
   "source": [
    "# needed lib import\n",
    "from datetime import datetime\n",
    "import csv\n",
    "from StringIO import StringIO"
   ]
  },
  {
   "cell_type": "code",
   "execution_count": 29,
   "metadata": {},
   "outputs": [
    {
     "data": {
      "text/plain": [
       "[u'4/10/2005 0:00,-1']"
      ]
     },
     "execution_count": 29,
     "metadata": {},
     "output_type": "execute_result"
    }
   ],
   "source": [
    "#file paths\n",
    "trafficPath = \"Dodgers.data\"\n",
    "gamesPath = \"DodgersEvents\"\n",
    "\n",
    "#creating rdd\n",
    "traffic = sc.textFile(trafficPath)\n",
    "games = sc.textFile(gamesPath)\n",
    "\n",
    "# games.take(10)\n",
    "traffic.take(1)"
   ]
  },
  {
   "cell_type": "code",
   "execution_count": 30,
   "metadata": {},
   "outputs": [],
   "source": [
    "# to maniplate the parse Traffic data\n",
    "def parseTraffic(row):\n",
    "    DATE_FMT = \"%m/%d/%Y %H:%M\"\n",
    "    row = row.split(',')\n",
    "    row[0] = datetime.strptime(row[0],DATE_FMT)\n",
    "    row[1] = int(row[1])\n",
    "    return (row[0],row[1])"
   ]
  },
  {
   "cell_type": "code",
   "execution_count": 31,
   "metadata": {},
   "outputs": [
    {
     "data": {
      "text/plain": [
       "[(datetime.datetime(2005, 4, 10, 0, 0), -1)]"
      ]
     },
     "execution_count": 31,
     "metadata": {},
     "output_type": "execute_result"
    }
   ],
   "source": [
    "#Creating a pair Rdd\n",
    "trafficParsed = traffic.map(parseTraffic)\n",
    "trafficParsed.take(1)"
   ]
  },
  {
   "cell_type": "code",
   "execution_count": 32,
   "metadata": {},
   "outputs": [
    {
     "data": {
      "text/plain": [
       "[(datetime.date(2005, 8, 9), 5958), (datetime.date(2005, 6, 29), 5437)]"
      ]
     },
     "execution_count": 32,
     "metadata": {},
     "output_type": "execute_result"
    }
   ],
   "source": [
    "# every day how many cars around to the stat.\n",
    "dailyTrend = trafficParsed.map(lambda x:(x[0].date(),x[1]))\\\n",
    "            .reduceByKey(lambda x,y : x+y)\n",
    "dailyTrend.take(2)\n"
   ]
  },
  {
   "cell_type": "code",
   "execution_count": 33,
   "metadata": {},
   "outputs": [
    {
     "data": {
      "text/plain": [
       "[(datetime.date(2005, 7, 28), 7661),\n",
       " (datetime.date(2005, 7, 29), 7499),\n",
       " (datetime.date(2005, 8, 12), 7287),\n",
       " (datetime.date(2005, 7, 27), 7238),\n",
       " (datetime.date(2005, 9, 23), 7175),\n",
       " (datetime.date(2005, 7, 26), 7163),\n",
       " (datetime.date(2005, 5, 20), 7119),\n",
       " (datetime.date(2005, 8, 11), 7110),\n",
       " (datetime.date(2005, 9, 8), 7107),\n",
       " (datetime.date(2005, 9, 7), 7082)]"
      ]
     },
     "execution_count": 33,
     "metadata": {},
     "output_type": "execute_result"
    }
   ],
   "source": [
    "dailyTrend.sortBy( lambda x : -x[1]).take(10)"
   ]
  },
  {
   "cell_type": "code",
   "execution_count": 34,
   "metadata": {},
   "outputs": [
    {
     "data": {
      "text/plain": [
       "[(datetime.date(2005, 4, 12), u'San Francisco')]"
      ]
     },
     "execution_count": 34,
     "metadata": {},
     "output_type": "execute_result"
    }
   ],
   "source": [
    "#join with Games\n",
    "def parseGames(row):\n",
    "    DATE_FMT = \"%m/%d/%y\"\n",
    "    row = row.split(\",\")\n",
    "    row[0] = datetime.strptime(row[0],DATE_FMT).date()\n",
    "    return (row[0],row[4])\n",
    "\n",
    "gamesParsed = games.map(parseGames)\n",
    "gamesParsed.take(1)"
   ]
  },
  {
   "cell_type": "code",
   "execution_count": 35,
   "metadata": {},
   "outputs": [
    {
     "data": {
      "text/plain": [
       "[(datetime.date(2005, 9, 24), (5848, u'Pittsburgh'))]"
      ]
     },
     "execution_count": 35,
     "metadata": {},
     "output_type": "execute_result"
    }
   ],
   "source": [
    "dailyTrendCombined = dailyTrend.leftOuterJoin(gamesParsed)\n",
    "dailyTrendCombined.take(1)"
   ]
  },
  {
   "cell_type": "code",
   "execution_count": 36,
   "metadata": {},
   "outputs": [
    {
     "data": {
      "text/plain": [
       "[(datetime.date(2005, 6, 28), (-96, u'San Diego')),\n",
       " (datetime.date(2005, 9, 10), (2851, u'San Diego')),\n",
       " (datetime.date(2005, 6, 27), (2907, u'San Diego')),\n",
       " (datetime.date(2005, 5, 30), (3973, u'Chicago Cubs')),\n",
       " (datetime.date(2005, 9, 5), (4023, u'San Francisco'))]"
      ]
     },
     "execution_count": 36,
     "metadata": {},
     "output_type": "execute_result"
    }
   ],
   "source": [
    "# according to date and also team trend without noGameDay\n",
    "dailyTrendCombined.filter(lambda x : x[1][1]!=None ).sortBy( lambda x : x[1][0]).take(5)"
   ]
  },
  {
   "cell_type": "code",
   "execution_count": 37,
   "metadata": {},
   "outputs": [],
   "source": [
    "# date, day type, Opponent, How many cars are around to the stat.\n",
    "def checkGameDay(row):\n",
    "    if row[1][1] ==None:\n",
    "        return (row[0],\"Regular Day\",row[1][1],row[1][0])\n",
    "    else :\n",
    "        return (row[0],\"--Game day-\",row[1][1],row[1][0])\n",
    "    \n",
    "dailyTrendByGames = dailyTrendCombined.map(checkGameDay)"
   ]
  },
  {
   "cell_type": "code",
   "execution_count": 38,
   "metadata": {},
   "outputs": [
    {
     "data": {
      "text/plain": [
       "[(datetime.date(2005, 7, 28), '--Game day-', u'Cincinnati', 7661),\n",
       " (datetime.date(2005, 7, 29), '--Game day-', u'St. Louis', 7499),\n",
       " (datetime.date(2005, 8, 12), '--Game day-', u'NY Mets', 7287),\n",
       " (datetime.date(2005, 7, 27), '--Game day-', u'Cincinnati', 7238),\n",
       " (datetime.date(2005, 9, 23), '--Game day-', u'Pittsburgh', 7175)]"
      ]
     },
     "execution_count": 38,
     "metadata": {},
     "output_type": "execute_result"
    }
   ],
   "source": [
    "dailyTrendByGames.sortBy( lambda x : -x[3]).take(5)"
   ]
  },
  {
   "cell_type": "code",
   "execution_count": 39,
   "metadata": {},
   "outputs": [],
   "source": [
    "#average car on game day and regular day\n",
    "TrendRateOfOpponent = dailyTrendByGames.map(lambda x : (x[2],x[3])).combineByKey( (lambda x : (x,1)),\n",
    "                                                              (  lambda acc,y : (acc[0]+y ,acc[1]+1 )),\n",
    "                                                              (  lambda acc1,acc2 : (acc1[0]+acc2[0] , acc1[1]+acc2[1])))\\\n",
    "                    .mapValues( lambda x: (x[0]/x[1]))"
   ]
  },
  {
   "cell_type": "code",
   "execution_count": 40,
   "metadata": {},
   "outputs": [
    {
     "data": {
      "image/png": "[encoded data removed]",
      "text/plain": [
       "<Figure size 432x288 with 1 Axes>"
      ]
     },
     "metadata": {},
     "output_type": "display_data"
    }
   ],
   "source": [
    "# Graph of the Opponent Trend \n",
    "import matplotlib.pyplot as plt\n",
    "\n",
    "y=list(TrendRateOfOpponent.map(lambda x: int (x[1])).collect())\n",
    "x=list(TrendRateOfOpponent.map(lambda x: str (x[0]) ).collect())\n",
    "plt.title(\"Car Trend According to Opponent of The Game\")\n",
    "plt.plot(x, y)\n",
    "plt.xticks(x, x, rotation='vertical')\n",
    "plt.show()"
   ]
  },
  {
   "cell_type": "code",
   "execution_count": null,
   "metadata": {},
   "outputs": [],
   "source": []
  },
  {
   "cell_type": "code",
   "execution_count": null,
   "metadata": {},
   "outputs": [],
   "source": []
  },
  {
   "cell_type": "code",
   "execution_count": null,
   "metadata": {},
   "outputs": [],
   "source": []
  },
  {
   "cell_type": "code",
   "execution_count": null,
   "metadata": {},
   "outputs": [],
   "source": []
  },
  {
   "cell_type": "code",
   "execution_count": null,
   "metadata": {},
   "outputs": [],
   "source": []
  }
 ],
 "metadata": {
  "kernelspec": {
   "display_name": "Python 2",
   "language": "python",
   "name": "python2"
  },
  "language_info": {
   "codemirror_mode": {
    "name": "ipython",
    "version": 2
   },
   "file_extension": ".py",
   "mimetype": "text/x-python",
   "name": "python",
   "nbconvert_exporter": "python",
   "pygments_lexer": "ipython2",
   "version": "2.7.15"
  }
 },
 "nbformat": 4,
 "nbformat_minor": 2
}
