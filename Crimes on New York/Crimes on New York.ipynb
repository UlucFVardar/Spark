{
 "cells": [
  {
   "cell_type": "code",
   "execution_count": 1,
   "metadata": {},
   "outputs": [],
   "source": [
    "#loading data\n",
    "filePath=\"NYPD_7_Major_Felony_Incidents.csv\"\n",
    "data = sc.textFile(filePath)"
   ]
  },
  {
   "cell_type": "code",
   "execution_count": 2,
   "metadata": {
    "collapsed": true
   },
   "outputs": [
    {
     "data": {
      "text/plain": [
       "[u'OBJECTID,Identifier,Occurrence Date,Day of Week,Occurrence Month,Occurrence Day,Occurrence Year,Occurrence Hour,CompStat Month,CompStat Day,CompStat Year,Offense,Offense Classification,Sector,Precinct,Borough,Jurisdiction,XCoordinate,YCoordinate,Location 1',\n",
       " u'1,f070032d,09/06/1940 07:30:00 PM,Friday,Sep,6,1940,19,9,7,2010,BURGLARY,FELONY,D,66,BROOKLYN,N.Y. POLICE DEPT,987478,166141,\"(40.6227027620001, -73.9883732929999)\"']"
      ]
     },
     "execution_count": 2,
     "metadata": {},
     "output_type": "execute_result"
    }
   ],
   "source": [
    "#printing first 2 line of the data\n",
    "data.take(2)"
   ]
  },
  {
   "cell_type": "code",
   "execution_count": 3,
   "metadata": {
    "collapsed": true
   },
   "outputs": [
    {
     "name": "stdout",
     "output_type": "stream",
     "text": [
      "OBJECTID,Identifier,Occurrence Date,Day of Week,Occurrence Month,Occurrence Day,Occurrence Year,Occurrence Hour,CompStat Month,CompStat Day,CompStat Year,Offense,Offense Classification,Sector,Precinct,Borough,Jurisdiction,XCoordinate,YCoordinate,Location 1\n"
     ]
    }
   ],
   "source": [
    "#header loading\n",
    "header = data.first()\n",
    "print header"
   ]
  },
  {
   "cell_type": "code",
   "execution_count": 4,
   "metadata": {},
   "outputs": [],
   "source": [
    "#cleaning data from non-header rows\n",
    "dataWoHeader = data.filter(lambda x : x<>header)"
   ]
  },
  {
   "cell_type": "code",
   "execution_count": null,
   "metadata": {},
   "outputs": [],
   "source": [
    "dataWoHeader.first()"
   ]
  },
  {
   "cell_type": "code",
   "execution_count": 6,
   "metadata": {
    "collapsed": true
   },
   "outputs": [
    {
     "data": {
      "text/plain": [
       "[[u'1',\n",
       "  u'f070032d',\n",
       "  u'09/06/1940 07:30:00 PM',\n",
       "  u'Friday',\n",
       "  u'Sep',\n",
       "  u'6',\n",
       "  u'1940',\n",
       "  u'19',\n",
       "  u'9',\n",
       "  u'7',\n",
       "  u'2010',\n",
       "  u'BURGLARY',\n",
       "  u'FELONY',\n",
       "  u'D',\n",
       "  u'66',\n",
       "  u'BROOKLYN',\n",
       "  u'N.Y. POLICE DEPT',\n",
       "  u'987478',\n",
       "  u'166141',\n",
       "  u'\"(40.6227027620001',\n",
       "  u' -73.9883732929999)\"'],\n",
       " [u'2',\n",
       "  u'c6245d4d',\n",
       "  u'12/14/1968 12:20:00 AM',\n",
       "  u'Saturday',\n",
       "  u'Dec',\n",
       "  u'14',\n",
       "  u'1968',\n",
       "  u'0',\n",
       "  u'12',\n",
       "  u'14',\n",
       "  u'2008',\n",
       "  u'GRAND LARCENY',\n",
       "  u'FELONY',\n",
       "  u'G',\n",
       "  u'28',\n",
       "  u'MANHATTAN',\n",
       "  u'N.Y. POLICE DEPT',\n",
       "  u'996470',\n",
       "  u'232106',\n",
       "  u'\"(40.8037530600001',\n",
       "  u' -73.955861904)\"'],\n",
       " [u'3',\n",
       "  u'716dbc6f',\n",
       "  u'10/30/1970 03:30:00 PM',\n",
       "  u'Friday',\n",
       "  u'Oct',\n",
       "  u'30',\n",
       "  u'1970',\n",
       "  u'15',\n",
       "  u'10',\n",
       "  u'31',\n",
       "  u'2008',\n",
       "  u'BURGLARY',\n",
       "  u'FELONY',\n",
       "  u'H',\n",
       "  u'84',\n",
       "  u'BROOKLYN',\n",
       "  u'N.Y. POLICE DEPT',\n",
       "  u'986508',\n",
       "  u'190249',\n",
       "  u'\"(40.688874254',\n",
       "  u' -73.9918594329999)\"'],\n",
       " [u'4',\n",
       "  u'638cd7b7',\n",
       "  u'07/18/1972 11:00:00 PM',\n",
       "  u'Tuesday',\n",
       "  u'Jul',\n",
       "  u'18',\n",
       "  u'1972',\n",
       "  u'23',\n",
       "  u'7',\n",
       "  u'19',\n",
       "  u'2012',\n",
       "  u'GRAND LARCENY OF MOTOR VEHICLE',\n",
       "  u'FELONY',\n",
       "  u'F',\n",
       "  u'73',\n",
       "  u'BROOKLYN',\n",
       "  u'N.Y. POLICE DEPT',\n",
       "  u'1005876',\n",
       "  u'182440',\n",
       "  u'\"(40.6674141890001',\n",
       "  u' -73.9220463899999)\"'],\n",
       " [u'5',\n",
       "  u'6e410287',\n",
       "  u'05/21/1987 12:01:00 AM',\n",
       "  u'Thursday',\n",
       "  u'May',\n",
       "  u'21',\n",
       "  u'1987',\n",
       "  u'0',\n",
       "  u'5',\n",
       "  u'28',\n",
       "  u'2009',\n",
       "  u'GRAND LARCENY',\n",
       "  u'FELONY',\n",
       "  u'K',\n",
       "  u'75',\n",
       "  u'BROOKLYN',\n",
       "  u'N.Y. POLICE DEPT',\n",
       "  u'1017958',\n",
       "  u'182266',\n",
       "  u'\"(40.6668988440001',\n",
       "  u' -73.878495425)\"'],\n",
       " [u'6',\n",
       "  u'7eebfe3c',\n",
       "  u'02/01/1990 09:00:00 AM',\n",
       "  u'Thursday',\n",
       "  u'Feb',\n",
       "  u'1',\n",
       "  u'1990',\n",
       "  u'9',\n",
       "  u'9',\n",
       "  u'17',\n",
       "  u'2014',\n",
       "  u'GRAND LARCENY',\n",
       "  u'FELONY',\n",
       "  u'K',\n",
       "  u'105',\n",
       "  u'QUEENS',\n",
       "  u'N.Y. POLICE DEPT',\n",
       "  u'1058407',\n",
       "  u'204788',\n",
       "  u'\"(40.7284698170001',\n",
       "  u' -73.7324430589999)\"'],\n",
       " [u'7',\n",
       "  u'da21f94f',\n",
       "  u'11/13/1990 12:01:00 AM',\n",
       "  u'Tuesday',\n",
       "  u'Nov',\n",
       "  u'13',\n",
       "  u'1990',\n",
       "  u'0',\n",
       "  u'6',\n",
       "  u'7',\n",
       "  u'2007',\n",
       "  u'GRAND LARCENY',\n",
       "  u'FELONY',\n",
       "  u'',\n",
       "  u'73',\n",
       "  u'BROOKLYN',\n",
       "  u'N.Y. HOUSING POLICE',\n",
       "  u'1010272',\n",
       "  u'183760',\n",
       "  u'\"(40.671025464',\n",
       "  u' -73.906195082)\"'],\n",
       " [u'8',\n",
       "  u'87c99e8c',\n",
       "  u'02/02/1992 04:00:00 PM',\n",
       "  u'Sunday',\n",
       "  u'Feb',\n",
       "  u'2',\n",
       "  u'1992',\n",
       "  u'16',\n",
       "  u'3',\n",
       "  u'27',\n",
       "  u'2012',\n",
       "  u'GRAND LARCENY',\n",
       "  u'FELONY',\n",
       "  u'',\n",
       "  u'101',\n",
       "  u'QUEENS',\n",
       "  u'N.Y. POLICE DEPT',\n",
       "  u'1053678',\n",
       "  u'159044',\n",
       "  u'\"(40.6029515910001',\n",
       "  u' -73.749976261)\"'],\n",
       " [u'9',\n",
       "  u'495f57e1',\n",
       "  u'08/08/1994 06:00:00 PM',\n",
       "  u'Monday',\n",
       "  u'Aug',\n",
       "  u'8',\n",
       "  u'1994',\n",
       "  u'18',\n",
       "  u'7',\n",
       "  u'31',\n",
       "  u'2008',\n",
       "  u'RAPE',\n",
       "  u'FELONY',\n",
       "  u'A',\n",
       "  u'103',\n",
       "  u'QUEENS',\n",
       "  u'N.Y. POLICE DEPT',\n",
       "  u'1041749',\n",
       "  u'196938',\n",
       "  u'\"(40.707047475',\n",
       "  u' -73.792611904)\"'],\n",
       " [u'10',\n",
       "  u'31c0b727',\n",
       "  u'10/26/1994 12:01:00 AM',\n",
       "  u'Wednesday',\n",
       "  u'Oct',\n",
       "  u'26',\n",
       "  u'1994',\n",
       "  u'0',\n",
       "  u'6',\n",
       "  u'4',\n",
       "  u'2008',\n",
       "  u'GRAND LARCENY',\n",
       "  u'FELONY',\n",
       "  u'D',\n",
       "  u'17',\n",
       "  u'MANHATTAN',\n",
       "  u'N.Y. POLICE DEPT',\n",
       "  u'992029',\n",
       "  u'213332',\n",
       "  u'\"(40.7522284',\n",
       "  u' -73.971924858)\"']]"
      ]
     },
     "execution_count": 6,
     "metadata": {},
     "output_type": "execute_result"
    }
   ],
   "source": [
    "dataWoHeader.map(lambda x : x.split(',')).take(10)"
   ]
  },
  {
   "cell_type": "code",
   "execution_count": 7,
   "metadata": {},
   "outputs": [],
   "source": [
    "import csv\n",
    "from StringIO import StringIO\n",
    "from collections import namedtuple"
   ]
  },
  {
   "cell_type": "code",
   "execution_count": 8,
   "metadata": {
    "collapsed": true
   },
   "outputs": [
    {
     "name": "stdout",
     "output_type": "stream",
     "text": [
      "[u'OBJECTID', u'Identifier', u'Occurrence_Date', u'Day_of_Week', u'Occurrence_Month', u'Occurrence_Day', u'Occurrence_Year', u'Occurrence_Hour', u'CompStat_Month', u'CompStat_Day', u'CompStat_Year', u'Offense', u'Offense_Classification', u'Sector', u'Precinct', u'Borough', u'Jurisdiction', u'XCoordinate', u'YCoordinate', u'Location_1']\n"
     ]
    }
   ],
   "source": [
    "fields = header.replace(\" \",\"_\").replace(\"/\",\"_\").split(\",\")\n",
    "print fields"
   ]
  },
  {
   "cell_type": "code",
   "execution_count": 9,
   "metadata": {
    "collapsed": true
   },
   "outputs": [
    {
     "name": "stdout",
     "output_type": "stream",
     "text": [
      "class Crime(tuple):\n",
      "    'Crime(OBJECTID, Identifier, Occurrence_Date, Day_of_Week, Occurrence_Month, Occurrence_Day, Occurrence_Year, Occurrence_Hour, CompStat_Month, CompStat_Day, CompStat_Year, Offense, Offense_Classification, Sector, Precinct, Borough, Jurisdiction, XCoordinate, YCoordinate, Location_1)'\n",
      "\n",
      "    __slots__ = ()\n",
      "\n",
      "    _fields = ('OBJECTID', 'Identifier', 'Occurrence_Date', 'Day_of_Week', 'Occurrence_Month', 'Occurrence_Day', 'Occurrence_Year', 'Occurrence_Hour', 'CompStat_Month', 'CompStat_Day', 'CompStat_Year', 'Offense', 'Offense_Classification', 'Sector', 'Precinct', 'Borough', 'Jurisdiction', 'XCoordinate', 'YCoordinate', 'Location_1')\n",
      "\n",
      "    def __new__(_cls, OBJECTID, Identifier, Occurrence_Date, Day_of_Week, Occurrence_Month, Occurrence_Day, Occurrence_Year, Occurrence_Hour, CompStat_Month, CompStat_Day, CompStat_Year, Offense, Offense_Classification, Sector, Precinct, Borough, Jurisdiction, XCoordinate, YCoordinate, Location_1):\n",
      "        'Create new instance of Crime(OBJECTID, Identifier, Occurrence_Date, Day_of_Week, Occurrence_Month, Occurrence_Day, Occurrence_Year, Occurrence_Hour, CompStat_Month, CompStat_Day, CompStat_Year, Offense, Offense_Classification, Sector, Precinct, Borough, Jurisdiction, XCoordinate, YCoordinate, Location_1)'\n",
      "        return _tuple.__new__(_cls, (OBJECTID, Identifier, Occurrence_Date, Day_of_Week, Occurrence_Month, Occurrence_Day, Occurrence_Year, Occurrence_Hour, CompStat_Month, CompStat_Day, CompStat_Year, Offense, Offense_Classification, Sector, Precinct, Borough, Jurisdiction, XCoordinate, YCoordinate, Location_1))\n",
      "\n",
      "    @classmethod\n",
      "    def _make(cls, iterable, new=tuple.__new__, len=len):\n",
      "        'Make a new Crime object from a sequence or iterable'\n",
      "        result = new(cls, iterable)\n",
      "        if len(result) != 20:\n",
      "            raise TypeError('Expected 20 arguments, got %d' % len(result))\n",
      "        return result\n",
      "\n",
      "    def __repr__(self):\n",
      "        'Return a nicely formatted representation string'\n",
      "        return 'Crime(OBJECTID=%r, Identifier=%r, Occurrence_Date=%r, Day_of_Week=%r, Occurrence_Month=%r, Occurrence_Day=%r, Occurrence_Year=%r, Occurrence_Hour=%r, CompStat_Month=%r, CompStat_Day=%r, CompStat_Year=%r, Offense=%r, Offense_Classification=%r, Sector=%r, Precinct=%r, Borough=%r, Jurisdiction=%r, XCoordinate=%r, YCoordinate=%r, Location_1=%r)' % self\n",
      "\n",
      "    def _asdict(self):\n",
      "        'Return a new OrderedDict which maps field names to their values'\n",
      "        return OrderedDict(zip(self._fields, self))\n",
      "\n",
      "    def _replace(_self, **kwds):\n",
      "        'Return a new Crime object replacing specified fields with new values'\n",
      "        result = _self._make(map(kwds.pop, ('OBJECTID', 'Identifier', 'Occurrence_Date', 'Day_of_Week', 'Occurrence_Month', 'Occurrence_Day', 'Occurrence_Year', 'Occurrence_Hour', 'CompStat_Month', 'CompStat_Day', 'CompStat_Year', 'Offense', 'Offense_Classification', 'Sector', 'Precinct', 'Borough', 'Jurisdiction', 'XCoordinate', 'YCoordinate', 'Location_1'), _self))\n",
      "        if kwds:\n",
      "            raise ValueError('Got unexpected field names: %r' % kwds.keys())\n",
      "        return result\n",
      "\n",
      "    def __getnewargs__(self):\n",
      "        'Return self as a plain tuple.  Used by copy and pickle.'\n",
      "        return tuple(self)\n",
      "\n",
      "    __dict__ = _property(_asdict)\n",
      "\n",
      "    def __getstate__(self):\n",
      "        'Exclude the OrderedDict from pickling'\n",
      "        pass\n",
      "\n",
      "    OBJECTID = _property(_itemgetter(0), doc='Alias for field number 0')\n",
      "\n",
      "    Identifier = _property(_itemgetter(1), doc='Alias for field number 1')\n",
      "\n",
      "    Occurrence_Date = _property(_itemgetter(2), doc='Alias for field number 2')\n",
      "\n",
      "    Day_of_Week = _property(_itemgetter(3), doc='Alias for field number 3')\n",
      "\n",
      "    Occurrence_Month = _property(_itemgetter(4), doc='Alias for field number 4')\n",
      "\n",
      "    Occurrence_Day = _property(_itemgetter(5), doc='Alias for field number 5')\n",
      "\n",
      "    Occurrence_Year = _property(_itemgetter(6), doc='Alias for field number 6')\n",
      "\n",
      "    Occurrence_Hour = _property(_itemgetter(7), doc='Alias for field number 7')\n",
      "\n",
      "    CompStat_Month = _property(_itemgetter(8), doc='Alias for field number 8')\n",
      "\n",
      "    CompStat_Day = _property(_itemgetter(9), doc='Alias for field number 9')\n",
      "\n",
      "    CompStat_Year = _property(_itemgetter(10), doc='Alias for field number 10')\n",
      "\n",
      "    Offense = _property(_itemgetter(11), doc='Alias for field number 11')\n",
      "\n",
      "    Offense_Classification = _property(_itemgetter(12), doc='Alias for field number 12')\n",
      "\n",
      "    Sector = _property(_itemgetter(13), doc='Alias for field number 13')\n",
      "\n",
      "    Precinct = _property(_itemgetter(14), doc='Alias for field number 14')\n",
      "\n",
      "    Borough = _property(_itemgetter(15), doc='Alias for field number 15')\n",
      "\n",
      "    Jurisdiction = _property(_itemgetter(16), doc='Alias for field number 16')\n",
      "\n",
      "    XCoordinate = _property(_itemgetter(17), doc='Alias for field number 17')\n",
      "\n",
      "    YCoordinate = _property(_itemgetter(18), doc='Alias for field number 18')\n",
      "\n",
      "    Location_1 = _property(_itemgetter(19), doc='Alias for field number 19')\n",
      "\n",
      "\n"
     ]
    }
   ],
   "source": [
    "Crime = namedtuple('Crime',fields, verbose=True ) "
   ]
  },
  {
   "cell_type": "code",
   "execution_count": 10,
   "metadata": {},
   "outputs": [],
   "source": [
    "def parse(row):\n",
    "    reader = csv.reader(StringIO(row))\n",
    "    row = reader.next()\n",
    "    return Crime(*row)"
   ]
  },
  {
   "cell_type": "code",
   "execution_count": 11,
   "metadata": {},
   "outputs": [],
   "source": [
    "crimes = dataWoHeader.map(parse)"
   ]
  },
  {
   "cell_type": "code",
   "execution_count": 12,
   "metadata": {
    "collapsed": true
   },
   "outputs": [
    {
     "data": {
      "text/plain": [
       "Crime(OBJECTID='1', Identifier='f070032d', Occurrence_Date='09/06/1940 07:30:00 PM', Day_of_Week='Friday', Occurrence_Month='Sep', Occurrence_Day='6', Occurrence_Year='1940', Occurrence_Hour='19', CompStat_Month='9', CompStat_Day='7', CompStat_Year='2010', Offense='BURGLARY', Offense_Classification='FELONY', Sector='D', Precinct='66', Borough='BROOKLYN', Jurisdiction='N.Y. POLICE DEPT', XCoordinate='987478', YCoordinate='166141', Location_1='(40.6227027620001, -73.9883732929999)')"
      ]
     },
     "execution_count": 12,
     "metadata": {},
     "output_type": "execute_result"
    }
   ],
   "source": [
    "crimes.first()"
   ]
  },
  {
   "cell_type": "code",
   "execution_count": 13,
   "metadata": {
    "collapsed": true
   },
   "outputs": [
    {
     "data": {
      "text/plain": [
       "defaultdict(int,\n",
       "            {'BURGLARY': 191369,\n",
       "             'FELONY ASSAULT': 184042,\n",
       "             'GRAND LARCENY': 428993,\n",
       "             'GRAND LARCENY OF MOTOR VEHICLE': 101963,\n",
       "             'MURDER & NON-NEGL. MANSLAUGHTE': 4574,\n",
       "             'NA': 1,\n",
       "             'RAPE': 13779,\n",
       "             'ROBBERY': 198744})"
      ]
     },
     "execution_count": 13,
     "metadata": {},
     "output_type": "execute_result"
    }
   ],
   "source": [
    "##we can exemine that if there are any emty slots or not \n",
    "crimes.map(lambda x : x.Offense).countByValue()"
   ]
  },
  {
   "cell_type": "code",
   "execution_count": 14,
   "metadata": {
    "collapsed": true
   },
   "outputs": [
    {
     "data": {
      "text/plain": [
       "defaultdict(int,\n",
       "            {'': 244,\n",
       "             '1905': 2,\n",
       "             '1908': 1,\n",
       "             '1910': 3,\n",
       "             '1911': 1,\n",
       "             '1912': 1,\n",
       "             '1913': 4,\n",
       "             '1914': 2,\n",
       "             '1915': 3,\n",
       "             '1920': 1,\n",
       "             '1940': 1,\n",
       "             '1945': 2,\n",
       "             '1946': 1,\n",
       "             '1950': 1,\n",
       "             '1954': 1,\n",
       "             '1955': 1,\n",
       "             '1956': 1,\n",
       "             '1958': 1,\n",
       "             '1959': 1,\n",
       "             '1960': 1,\n",
       "             '1964': 1,\n",
       "             '1965': 2,\n",
       "             '1966': 7,\n",
       "             '1968': 1,\n",
       "             '1969': 1,\n",
       "             '1970': 2,\n",
       "             '1971': 1,\n",
       "             '1972': 2,\n",
       "             '1973': 5,\n",
       "             '1974': 3,\n",
       "             '1975': 2,\n",
       "             '1976': 2,\n",
       "             '1977': 3,\n",
       "             '1978': 2,\n",
       "             '1979': 6,\n",
       "             '1980': 5,\n",
       "             '1981': 1,\n",
       "             '1982': 5,\n",
       "             '1983': 1,\n",
       "             '1984': 4,\n",
       "             '1985': 8,\n",
       "             '1986': 2,\n",
       "             '1987': 6,\n",
       "             '1988': 6,\n",
       "             '1989': 12,\n",
       "             '1990': 17,\n",
       "             '1991': 12,\n",
       "             '1992': 12,\n",
       "             '1993': 23,\n",
       "             '1994': 19,\n",
       "             '1995': 27,\n",
       "             '1996': 34,\n",
       "             '1997': 40,\n",
       "             '1998': 74,\n",
       "             '1999': 124,\n",
       "             '2000': 282,\n",
       "             '2001': 343,\n",
       "             '2002': 368,\n",
       "             '2003': 490,\n",
       "             '2004': 692,\n",
       "             '2005': 3272,\n",
       "             '2006': 127887,\n",
       "             '2007': 120554,\n",
       "             '2008': 117375,\n",
       "             '2009': 106018,\n",
       "             '2010': 105643,\n",
       "             '2011': 107206,\n",
       "             '2012': 111798,\n",
       "             '2013': 111286,\n",
       "             '2014': 106849,\n",
       "             '2015': 102657})"
      ]
     },
     "execution_count": 14,
     "metadata": {},
     "output_type": "execute_result"
    }
   ],
   "source": [
    "crimes.map(lambda x : x.Occurrence_Year).countByValue()\n",
    "#we can exemine that if there are any emty slots or not \n",
    "#and when we look at all years we understant that there are missing data before 2006.."
   ]
  },
  {
   "cell_type": "code",
   "execution_count": 15,
   "metadata": {},
   "outputs": [],
   "source": [
    "#filter returns true or false if false that row dies.\n",
    "crimesFiltered = crimes.filter(lambda x : not (x.Offense == \"NA\" or x.Occurrence_Year==''))\\\n",
    "        .filter(lambda x : int(x.Occurrence_Year)>=2006)"
   ]
  },
  {
   "cell_type": "code",
   "execution_count": 16,
   "metadata": {},
   "outputs": [],
   "source": [
    "def extracCoords(location):\n",
    "    #string maniplation  [1:location.index(\",\")] or [location.index(\",\")+1:-1]\n",
    "    lat = float(location[1:location.index(',')]) \n",
    "    lon = float(location[location.index(',')+1:-1])\n",
    "    return (float(lat),float(lon))"
   ]
  },
  {
   "cell_type": "code",
   "execution_count": 17,
   "metadata": {
    "scrolled": true
   },
   "outputs": [
    {
     "data": {
      "text/plain": [
       "(40.112709974, -77.519206334)"
      ]
     },
     "execution_count": 17,
     "metadata": {},
     "output_type": "execute_result"
    }
   ],
   "source": [
    "# Data set location max and min finding \n",
    "    # if there is any anomaly in the cordinates According to New York city we have to clean DataSet from dirty data\n",
    "crimesFiltered.map(lambda x: (extracCoords(x.Location_1))).reduce(lambda x,y :(min(x[0],y[0]),min(x[1],y[1])))"
   ]
  },
  {
   "cell_type": "code",
   "execution_count": 18,
   "metadata": {},
   "outputs": [
    {
     "data": {
      "text/plain": [
       "(59.5805088160001, -73.700716685)"
      ]
     },
     "execution_count": 18,
     "metadata": {},
     "output_type": "execute_result"
    }
   ],
   "source": [
    "# Data set location max and min finding \n",
    "    # if there is any anomaly in the cordinates According to New York city we have to clean DataSet from dirty data\n",
    "crimesFiltered.map(lambda x :(extracCoords(x.Location_1))).reduce(lambda x,y :(max(x[0],y[0]),max(x[1],y[1])))"
   ]
  },
  {
   "cell_type": "code",
   "execution_count": 19,
   "metadata": {},
   "outputs": [],
   "source": [
    "#clean location anomalyies these crimes are occurse in new york\n",
    "crimesFinal = crimesFiltered.filter(lambda x: extracCoords(x.Location_1)[0]>=40.477399 and\\\n",
    "                                   extracCoords(x.Location_1)[0]<=40.917577 and\\\n",
    "                                   extracCoords(x.Location_1)[1]>=-74.25909 and\\\n",
    "                                   extracCoords(x.Location_1)[1]<=-73.700009 )"
   ]
  },
  {
   "cell_type": "code",
   "execution_count": 20,
   "metadata": {},
   "outputs": [
    {
     "data": {
      "text/plain": [
       "(40.912723396, -73.700716685)"
      ]
     },
     "execution_count": 20,
     "metadata": {},
     "output_type": "execute_result"
    }
   ],
   "source": [
    "#check if there is any anomly anymore\n",
    "crimesFinal.map(lambda x : extracCoords(x.Location_1))\\\n",
    "    .reduce(lambda x,y :(max(x[0],y[0]),max(x[1],y[1])))"
   ]
  },
  {
   "cell_type": "code",
   "execution_count": 21,
   "metadata": {},
   "outputs": [],
   "source": [
    "## now our data set is clean "
   ]
  },
  {
   "cell_type": "code",
   "execution_count": 22,
   "metadata": {},
   "outputs": [
    {
     "data": {
      "text/plain": [
       "defaultdict(int,\n",
       "            {'2006': 127887,\n",
       "             '2007': 120491,\n",
       "             '2008': 117375,\n",
       "             '2009': 106018,\n",
       "             '2010': 105639,\n",
       "             '2011': 107203,\n",
       "             '2012': 111798,\n",
       "             '2013': 111286,\n",
       "             '2014': 106849,\n",
       "             '2015': 102657})"
      ]
     },
     "execution_count": 22,
     "metadata": {},
     "output_type": "execute_result"
    }
   ],
   "source": [
    "#try to give a meaning\n",
    "#trend By year without any filter\n",
    "crimesFinal.map(lambda x : x.Occurrence_Year).countByValue()"
   ]
  },
  {
   "cell_type": "code",
   "execution_count": 23,
   "metadata": {},
   "outputs": [
    {
     "data": {
      "text/plain": [
       "defaultdict(int,\n",
       "            {'BURGLARY': 14967,\n",
       "             'FELONY ASSAULT': 20189,\n",
       "             'GRAND LARCENY': 41873,\n",
       "             'GRAND LARCENY OF MOTOR VEHICLE': 7250,\n",
       "             'MURDER & NON-NEGL. MANSLAUGHTE': 336,\n",
       "             'RAPE': 1156,\n",
       "             'ROBBERY': 16886})"
      ]
     },
     "execution_count": 23,
     "metadata": {},
     "output_type": "execute_result"
    }
   ],
   "source": [
    "#Trend by crime type in 2015\n",
    "crimesFinal.filter(lambda x : x.Occurrence_Year=='2015')\\\n",
    "            .map(lambda x : x.Offense)\\\n",
    "            .countByValue()"
   ]
  },
  {
   "cell_type": "code",
   "execution_count": 24,
   "metadata": {},
   "outputs": [],
   "source": [
    "# gmplot lib. is allows us plot dos on googlemap \n",
    "import gmplot\n",
    "gmap = gmplot.GoogleMapPlotter(37.428,-122.145,16).from_geocode(\"New York City\")"
   ]
  },
  {
   "cell_type": "code",
   "execution_count": 25,
   "metadata": {},
   "outputs": [],
   "source": [
    "#in 2015 all BURGLARY crimes on the map give lat.\n",
    "b_lats = crimesFinal.filter(lambda x : x.Offense == 'GRAND LARCENY OF MOTOR VEHICLE' and x.Occurrence_Year==\"2015\")\\\n",
    "                     .map(lambda x: extracCoords(x.Location_1)[0])\\\n",
    "                     .collect()"
   ]
  },
  {
   "cell_type": "code",
   "execution_count": 26,
   "metadata": {},
   "outputs": [],
   "source": [
    "#in 2015 all BURGLARY crimes on the map give lon.\n",
    "b_lons = crimesFinal.filter(lambda x : x.Offense == 'GRAND LARCENY OF MOTOR VEHICLE' and x.Occurrence_Year==\"2015\")\\\n",
    "                     .map(lambda x: extracCoords(x.Location_1)[1])\\\n",
    "                     .collect()"
   ]
  },
  {
   "cell_type": "code",
   "execution_count": 27,
   "metadata": {},
   "outputs": [],
   "source": [
    "gmap.scatter(b_lats,b_lons,'#DE1515',size=40,marker=False)"
   ]
  },
  {
   "cell_type": "code",
   "execution_count": 28,
   "metadata": {},
   "outputs": [],
   "source": [
    "#save myMap.html\n",
    "gmap.draw(\"mymap.html\")"
   ]
  },
  {
   "cell_type": "code",
   "execution_count": null,
   "metadata": {},
   "outputs": [],
   "source": []
  }
 ],
 "metadata": {
  "kernelspec": {
   "display_name": "Python 2",
   "language": "python",
   "name": "python2"
  },
  "language_info": {
   "codemirror_mode": {
    "name": "ipython",
    "version": 2
   },
   "file_extension": ".py",
   "mimetype": "text/x-python",
   "name": "python",
   "nbconvert_exporter": "python",
   "pygments_lexer": "ipython2",
   "version": "2.7.15"
  }
 },
 "nbformat": 4,
 "nbformat_minor": 2
}
